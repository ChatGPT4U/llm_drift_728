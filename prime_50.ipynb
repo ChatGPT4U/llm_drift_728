{
 "cells": [
  {
   "cell_type": "code",
   "execution_count": null,
   "metadata": {},
   "outputs": [],
   "source": [
    "!pip install kaleido==0.2.1\n",
    "!pip install plotly==5.14.1\n",
    "\n",
    "try:\n",
    "    from src.visualize import Visualize\n",
    "    from src.analysis import Analysis\n",
    "except:    \n",
    "    ! git clone https://github.com/RealPromptGuru/llm_drift_728\n",
    "    %cd llm_drift_728\n",
    "    from src.visualize import Visualize\n",
    "    from src.analysis import Analysis    \n",
    "\n",
    "import pandas"
   ]
  },
  {
   "cell_type": "code",
   "execution_count": null,
   "metadata": {},
   "outputs": [],
   "source": [
    "# Specify parameters\n",
    "MyAnalysis = Analysis()\n",
    "MyVisual = Visualize(root_path='figure/')\n",
    "fontsize=50\n",
    "models_GPT4 = ['openaichat/gpt-4-0314',\"openaichat/gpt-4-0613\"]\n",
    "models_GPT35 = ['openaichat/gpt-3.5-turbo-0301',\"openaichat/gpt-3.5-turbo-0613\"]\n",
    "GPT_4_MAP = {'openaichat/gpt-4-0314':'March 2023',\"openaichat/gpt-4-0613\":\"June 2023\"}\n",
    "GPT_35_MAP = {'openaichat/gpt-3.5-turbo-0301':'March 2023',\"openaichat/gpt-3.5-turbo-0613\":\"June 2023\"}"
   ]
  },
  {
   "cell_type": "code",
   "execution_count": null,
   "metadata": {},
   "outputs": [],
   "source": [
    "# PRIME Dataset\n",
    "data = pandas.read_csv(open('generation/PRIME_EVAL_50.csv'))\n",
    "name = \"prime\"\n",
    "\n",
    "# Accuracy \n",
    "metric = 'Accuracy'\n",
    "score, scores_std = MyAnalysis.get_score(data,metric)\n",
    "MyVisual.plot_bars(score,scores_std,fontsize=fontsize,name_map=GPT_4_MAP)\n",
    "MyVisual.save_figure(name+\"_GPT4.svg\")\n",
    "MyVisual.plot_bars(score,scores_std,fontsize=fontsize,name_map=GPT_35_MAP)\n",
    "MyVisual.save_figure(name+\"_GPT35.svg\")\n",
    "\n",
    "# Verbosity\n",
    "score, scores_std = MyAnalysis.get_verbosity(data)\n",
    "MyVisual.plot_bars(score,scores_std,yrange=[0,1000],fontsize=fontsize,name_map=GPT_4_MAP,no_text=True)\n",
    "MyVisual.save_figure(name+\"_verbose_GPT4.svg\")\n",
    "MyVisual.plot_bars(score,scores_std,yrange=[0,1200],fontsize=fontsize,name_map=GPT_35_MAP,no_text=True)\n",
    "MyVisual.save_figure(name+\"_verbose_GPT35.svg\")\n",
    "\n",
    "# Overlap\n",
    "score, scores_std = MyAnalysis.get_overlap(data=data,models=models_GPT4,name=metric)\n",
    "MyVisual.plot_bar(score,scores_std,fontsize=fontsize)\n",
    "MyVisual.save_figure(name+\"_overlap_GPT4.svg\")\n",
    "score, scores_std = MyAnalysis.get_overlap(data=data,models=models_GPT35,name=metric)\n",
    "MyVisual.plot_bar(score,scores_std,fontsize=fontsize)\n",
    "MyVisual.save_figure(name+\"_overlap_GPT35.svg\")"
   ]
  },
  {
   "cell_type": "code",
   "execution_count": null,
   "metadata": {},
   "outputs": [],
   "source": [
    "data = pandas.read_csv(open('generation/PRIME_EVAL_50.csv'))\n",
    "data"
   ]
  }
 ],
 "metadata": {
  "language_info": {
   "name": "python"
  },
  "orig_nbformat": 4
 },
 "nbformat": 4,
 "nbformat_minor": 2
}
